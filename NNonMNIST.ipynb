{
 "cells": [
  {
   "cell_type": "code",
   "execution_count": 0,
   "metadata": {
    "colab": {},
    "colab_type": "code",
    "id": "baRiRWVUVHy_"
   },
   "outputs": [],
   "source": [
    "import torch\n",
    "from torch import nn, optim\n",
    "from torch.autograd import Variable\n",
    "from torch.utils.data import DataLoader\n",
    "from torchvision import transforms\n",
    "from torchvision import datasets\n",
    "import time\n",
    "\n",
    "batch_size = 32\n",
    "learning_rate = 1e-3\n",
    "num_epoches = 10"
   ]
  },
  {
   "cell_type": "code",
   "execution_count": 0,
   "metadata": {
    "colab": {},
    "colab_type": "code",
    "id": "V-OP3623VHzN"
   },
   "outputs": [],
   "source": [
    "train_dataset = datasets.MNIST(root='./data', train = True, transform=transforms.ToTensor(), download = True)\n",
    "test_dataset = datasets.MNIST(root='./data', train = False, transform=transforms.ToTensor())\n",
    "train_loader = DataLoader(train_dataset, batch_size = batch_size, shuffle=True)\n",
    "test_loader = DataLoader(test_dataset, batch_size = batch_size, shuffle=False)"
   ]
  },
  {
   "cell_type": "code",
   "execution_count": 0,
   "metadata": {
    "colab": {},
    "colab_type": "code",
    "id": "mi91xwJncYuq"
   },
   "outputs": [],
   "source": [
    "def train(model):\n",
    "    for epoch in range(num_epoches):\n",
    "#         print('epoch {}/{}'.format(epoch + 1, num_epoches))\n",
    "    #     print('*' * 10)\n",
    "        for i, data in enumerate(train_loader, 1):\n",
    "            img, label = data\n",
    "            img = img.view(img.size(0), -1)\n",
    "            img = Variable(img).to(device)\n",
    "            label = Variable(label).to(device)\n",
    "\n",
    "    #         print('batch {}, img size '.format(i) + str(img.size()))\n",
    "            out = model(img)\n",
    "            loss = criterion(out, label)        \n",
    "            optimizer.zero_grad()\n",
    "            loss.backward()\n",
    "            optimizer.step()\n",
    "\n",
    "        eval_loss = 0.\n",
    "        eval_acc = 0.\n",
    "        for data in test_loader:\n",
    "            img, label = data\n",
    "            img = img.view(img.size(0), -1)\n",
    "            img = Variable(img).to(device)\n",
    "            label = Variable(label).to(device)\n",
    "            out = model(img)\n",
    "            loss = criterion(out, label)\n",
    "            eval_loss += loss.data.item() * label.size(0)\n",
    "            _, pred = torch.max(out, 1)\n",
    "            num_correct = (pred == label).sum()\n",
    "            eval_acc += num_correct.data.item()\n",
    "\n",
    "        print('epoch {}/{}, Test Loss: {:.6f}, Acc: {:.6f}'.format(epoch + 1, num_epoches, eval_loss / (len(test_dataset)), eval_acc / (len(test_dataset))))\n"
   ]
  },
  {
   "cell_type": "code",
   "execution_count": 0,
   "metadata": {
    "colab": {},
    "colab_type": "code",
    "id": "BTO25ZzqVHzT"
   },
   "outputs": [],
   "source": [
    "class FCNet(nn.Module):\n",
    "    def __init__(self, in_dim, n_hidden_1, n_hidden_2, out_dim):\n",
    "        super(FCNet, self).__init__()\n",
    "        self.layer1 = nn.Linear(in_dim, n_hidden_1)\n",
    "        self.layer2 = nn.Linear(n_hidden_1, n_hidden_2)\n",
    "        self.layer3 = nn.Linear(n_hidden_2, out_dim)\n",
    "    \n",
    "    def forward(self, x):\n",
    "        x = x.view(x.size(0), -1)\n",
    "        out_1 = self.layer1(x)\n",
    "        out_2 = self.layer2(out_1)\n",
    "        out_3 = self.layer3(out_2)\n",
    "        return out_3"
   ]
  },
  {
   "cell_type": "code",
   "execution_count": 0,
   "metadata": {
    "colab": {},
    "colab_type": "code",
    "id": "Zv0b-vHCXl6x"
   },
   "outputs": [],
   "source": [
    "class FCNet2(nn.Module):\n",
    "    def __init__(self, in_dim, n_hidden_1, n_hidden_2, out_dim):\n",
    "        super(FCNet2, self).__init__()\n",
    "        self.fcnet = nn.Sequential(\n",
    "            nn.Linear(in_dim, n_hidden_1),\n",
    "            nn.ReLU(),\n",
    "            nn.Linear(n_hidden_1, n_hidden_2),\n",
    "            nn.ReLU(),\n",
    "            nn.Linear(n_hidden_2, out_dim),\n",
    "            nn.Softmax(),\n",
    "        )\n",
    "    \n",
    "    def forward(self, x):\n",
    "        x = x.view(x.size(0), -1)\n",
    "        out = self.fcnet(x)\n",
    "        return out"
   ]
  },
  {
   "cell_type": "code",
   "execution_count": 22,
   "metadata": {
    "colab": {
     "base_uri": "https://localhost:8080/",
     "height": 187
    },
    "colab_type": "code",
    "id": "T9GN-aypVHzY",
    "outputId": "32e3ece0-a624-4be7-adcd-0982f1336e69"
   },
   "outputs": [
    {
     "name": "stdout",
     "output_type": "stream",
     "text": [
      "epoch 1/10, Test Loss: 0.322297, Acc: 0.905900\n",
      "epoch 2/10, Test Loss: 0.312928, Acc: 0.913800\n",
      "epoch 3/10, Test Loss: 0.319871, Acc: 0.907400\n",
      "epoch 4/10, Test Loss: 0.301230, Acc: 0.914500\n",
      "epoch 5/10, Test Loss: 0.295956, Acc: 0.918300\n",
      "epoch 6/10, Test Loss: 0.303271, Acc: 0.911000\n",
      "epoch 7/10, Test Loss: 0.302588, Acc: 0.918700\n",
      "epoch 8/10, Test Loss: 0.306661, Acc: 0.912300\n",
      "epoch 9/10, Test Loss: 0.298172, Acc: 0.917900\n",
      "epoch 10/10, Test Loss: 0.285057, Acc: 0.921200\n"
     ]
    }
   ],
   "source": [
    "device = torch.device('cuda' if torch.cuda.is_available() else 'cpu')\n",
    "model_linear = FCNet(28*28, 300, 100, 10).to(device)\n",
    "criterion = nn.CrossEntropyLoss()\n",
    "optimizer = optim.Adam(model_linear.parameters(), lr = learning_rate, weight_decay = 1e-5)\n",
    "train(model_linear)"
   ]
  },
  {
   "cell_type": "code",
   "execution_count": 24,
   "metadata": {
    "colab": {
     "base_uri": "https://localhost:8080/",
     "height": 241
    },
    "colab_type": "code",
    "id": "hv_0mUtkVHzl",
    "outputId": "3382bd28-4904-422a-d817-e3595acec0c7"
   },
   "outputs": [
    {
     "name": "stderr",
     "output_type": "stream",
     "text": [
      "/usr/local/lib/python3.6/dist-packages/torch/nn/modules/container.py:92: UserWarning: Implicit dimension choice for softmax has been deprecated. Change the call to include dim=X as an argument.\n",
      "  input = module(input)\n"
     ]
    },
    {
     "name": "stdout",
     "output_type": "stream",
     "text": [
      "epoch 1/10, Test Loss: 1.519300, Acc: 0.944200\n",
      "epoch 2/10, Test Loss: 1.502804, Acc: 0.960200\n",
      "epoch 3/10, Test Loss: 1.496745, Acc: 0.965800\n",
      "epoch 4/10, Test Loss: 1.497404, Acc: 0.964400\n",
      "epoch 5/10, Test Loss: 1.488862, Acc: 0.972300\n",
      "epoch 6/10, Test Loss: 1.488474, Acc: 0.972800\n",
      "epoch 7/10, Test Loss: 1.487576, Acc: 0.973700\n",
      "epoch 8/10, Test Loss: 1.489184, Acc: 0.972200\n",
      "epoch 9/10, Test Loss: 1.497089, Acc: 0.964400\n",
      "epoch 10/10, Test Loss: 1.486019, Acc: 0.975300\n"
     ]
    }
   ],
   "source": [
    "model_relu_softmax = FCNet2(28*28, 300, 100, 10).to(device)\n",
    "criterion = nn.CrossEntropyLoss()\n",
    "optimizer = optim.Adam(model_relu_softmax.parameters(), lr = learning_rate, weight_decay = 1e-5)\n",
    "train(model_relu_softmax)"
   ]
  },
  {
   "cell_type": "code",
   "execution_count": 0,
   "metadata": {
    "colab": {},
    "colab_type": "code",
    "id": "HCvTa_BAdUk1"
   },
   "outputs": [],
   "source": [
    "class FCNet_sig_softmax(nn.Module):\n",
    "    def __init__(self, in_dim, n_hidden_1, n_hidden_2, out_dim):\n",
    "        super(FCNet_sig_softmax, self).__init__()\n",
    "        self.fcnet = nn.Sequential(\n",
    "            nn.Linear(in_dim, n_hidden_1),\n",
    "            nn.Sigmoid(),\n",
    "            nn.Linear(n_hidden_1, n_hidden_2),\n",
    "            nn.Sigmoid(),\n",
    "            nn.Linear(n_hidden_2, out_dim),\n",
    "            nn.Softmax(dim=1),\n",
    "        )\n",
    "    \n",
    "    def forward(self, x):\n",
    "        x = x.view(x.size(0), -1)\n",
    "        out = self.fcnet(x)\n",
    "        return out"
   ]
  },
  {
   "cell_type": "code",
   "execution_count": 29,
   "metadata": {
    "colab": {
     "base_uri": "https://localhost:8080/",
     "height": 187
    },
    "colab_type": "code",
    "id": "eJA4hoJwY3ah",
    "outputId": "8a83c46c-b199-477d-856a-bcac8c9b45bf"
   },
   "outputs": [
    {
     "name": "stdout",
     "output_type": "stream",
     "text": [
      "epoch 1/10, Test Loss: 1.536332, Acc: 0.931500\n",
      "epoch 2/10, Test Loss: 1.515496, Acc: 0.949000\n",
      "epoch 3/10, Test Loss: 1.508236, Acc: 0.956000\n",
      "epoch 4/10, Test Loss: 1.502240, Acc: 0.962800\n",
      "epoch 5/10, Test Loss: 1.497970, Acc: 0.966400\n",
      "epoch 6/10, Test Loss: 1.497321, Acc: 0.966700\n",
      "epoch 7/10, Test Loss: 1.491599, Acc: 0.971600\n",
      "epoch 8/10, Test Loss: 1.490493, Acc: 0.972200\n",
      "epoch 9/10, Test Loss: 1.490858, Acc: 0.972000\n",
      "epoch 10/10, Test Loss: 1.489943, Acc: 0.973500\n"
     ]
    }
   ],
   "source": [
    "model_sig_softmax = FCNet_sig_softmax(28*28, 300, 100, 10).to(device)\n",
    "criterion = nn.CrossEntropyLoss()\n",
    "optimizer = optim.Adam(model_sig_softmax.parameters(), lr = learning_rate, weight_decay = 1e-5)\n",
    "train(model_sig_softmax)"
   ]
  },
  {
   "cell_type": "code",
   "execution_count": 0,
   "metadata": {
    "colab": {},
    "colab_type": "code",
    "id": "jSJahGO8Y9ak"
   },
   "outputs": [],
   "source": [
    "def train_cnn(model):\n",
    "    for epoch in range(num_epoches):\n",
    "#         print('epoch {}/{}'.format(epoch + 1, num_epoches))\n",
    "    #     print('*' * 10)\n",
    "        for i, data in enumerate(train_loader, 1):\n",
    "#             print('Batch ',i)\n",
    "            img, label = data\n",
    "#             img = img.view(img.size(0), -1)\n",
    "            img = Variable(img).to(device)\n",
    "            label = Variable(label).to(device)\n",
    "\n",
    "#             print('batch {}, img size '.format(i) + str(img.size()))\n",
    "            out = model(img)\n",
    "            loss = criterion(out, label)        \n",
    "            optimizer.zero_grad()\n",
    "            loss.backward()\n",
    "            optimizer.step()\n",
    "\n",
    "        eval_loss = 0.\n",
    "        eval_acc = 0.\n",
    "        for data in test_loader:\n",
    "            img, label = data\n",
    "#             img = img.view(img.size(0), -1)\n",
    "            img = Variable(img).to(device)\n",
    "            label = Variable(label).to(device)\n",
    "            out = model(img)\n",
    "            loss = criterion(out, label)\n",
    "            eval_loss += loss.data.item() * label.size(0)\n",
    "            _, pred = torch.max(out, 1)\n",
    "            num_correct = (pred == label).sum()\n",
    "            eval_acc += num_correct.data.item()\n",
    "\n",
    "        print('epoch {}/{}, Test Loss: {:.6f}, Acc: {:.6f}'.format(epoch + 1, num_epoches, eval_loss / (len(test_dataset)), eval_acc / (len(test_dataset))))"
   ]
  },
  {
   "cell_type": "code",
   "execution_count": 0,
   "metadata": {
    "colab": {},
    "colab_type": "code",
    "id": "3WDd1BjHW8EO"
   },
   "outputs": [],
   "source": [
    "class cnn(nn.Module):\n",
    "    def __init__(self, in_dim, nclass):\n",
    "      super(cnn, self).__init__()\n",
    "      self.conv1 = nn.Sequential(\n",
    "          nn.Conv2d(in_dim, 6, 3, stride = 1, padding = 1),\n",
    "          nn.ReLU(),\n",
    "          nn.MaxPool2d(2),\n",
    "      )\n",
    "      self.conv2 = nn.Sequential(\n",
    "          nn.Conv2d(6, 16, 3, stride = 1),\n",
    "          nn.ReLU(),\n",
    "          nn.MaxPool2d(2),\n",
    "      )\n",
    "      self.fc = nn.Sequential(\n",
    "          nn.Linear(576, 200),\n",
    "          nn.Linear(200, 100),\n",
    "          nn.Linear(100, nclass)\n",
    "      )\n",
    "      \n",
    "    def forward(self, x):\n",
    "#         print('In forward, input size ', x.size())\n",
    "#         x = x.view(x.size(0), 1, 28, 28)\n",
    "        out1 = self.conv1(x)\n",
    "        out2 = self.conv2(out1)\n",
    "        out2 = out2.view(out2.size(0), -1)\n",
    "        out3 = self.fc(out2)\n",
    "        return out3"
   ]
  },
  {
   "cell_type": "code",
   "execution_count": 67,
   "metadata": {
    "colab": {
     "base_uri": "https://localhost:8080/",
     "height": 187
    },
    "colab_type": "code",
    "id": "LuWNXjNxWG-P",
    "outputId": "1678808b-95f9-4a59-fcbc-9e66df303d4a"
   },
   "outputs": [
    {
     "name": "stdout",
     "output_type": "stream",
     "text": [
      "epoch 1/10, Test Loss: 0.075236, Acc: 0.976200\n",
      "epoch 2/10, Test Loss: 0.062623, Acc: 0.980200\n",
      "epoch 3/10, Test Loss: 0.062769, Acc: 0.980300\n",
      "epoch 4/10, Test Loss: 0.054678, Acc: 0.981100\n",
      "epoch 5/10, Test Loss: 0.060837, Acc: 0.981100\n",
      "epoch 6/10, Test Loss: 0.042072, Acc: 0.987100\n",
      "epoch 7/10, Test Loss: 0.044130, Acc: 0.984900\n",
      "epoch 8/10, Test Loss: 0.045207, Acc: 0.985700\n",
      "epoch 9/10, Test Loss: 0.043120, Acc: 0.986400\n",
      "epoch 10/10, Test Loss: 0.052145, Acc: 0.984400\n"
     ]
    }
   ],
   "source": [
    "model_cnn_lin = cnn(1, 10).to(device)\n",
    "criterion = nn.CrossEntropyLoss()\n",
    "optimizer = optim.Adam(model_cnn_lin.parameters(), lr = learning_rate, weight_decay = 1e-5)\n",
    "train_cnn(model_cnn_lin)"
   ]
  },
  {
   "cell_type": "code",
   "execution_count": 0,
   "metadata": {
    "colab": {},
    "colab_type": "code",
    "id": "P3g6e5RqWUyR"
   },
   "outputs": [],
   "source": [
    "class cnn_bn(nn.Module):\n",
    "    def __init__(self, in_dim, nclass):\n",
    "      super(cnn_bn, self).__init__()\n",
    "      self.conv1 = nn.Sequential(\n",
    "          nn.Conv2d(in_dim, 6, 3, stride = 1, padding = 1),\n",
    "          nn.MaxPool2d(2),\n",
    "          nn.ReLU(),\n",
    "          nn.BatchNorm2d(6)\n",
    "      )\n",
    "      self.conv2 = nn.Sequential(\n",
    "          nn.Conv2d(6, 16, 3, stride = 1),\n",
    "          nn.MaxPool2d(2),\n",
    "          nn.ReLU(),\n",
    "          nn.BatchNorm2d(16)\n",
    "          \n",
    "      )\n",
    "      self.fc = nn.Sequential(\n",
    "          nn.Linear(576, 200),\n",
    "#           nn.ReLU(),\n",
    "#           nn.Sigmoid(),\n",
    "          nn.Linear(200, 100),\n",
    "#           nn.ReLU(),\n",
    "#           nn.Sigmoid(),\n",
    "          nn.Linear(100, nclass),\n",
    "#           nn.Softmax(dim=1),\n",
    "      )\n",
    "      \n",
    "    def forward(self, x):\n",
    "#         print('In forward, input size ', x.size())\n",
    "#         x = x.view(x.size(0), 1, 28, 28)\n",
    "        out1 = self.conv1(x)\n",
    "        out2 = self.conv2(out1)\n",
    "        out2 = out2.view(out2.size(0), -1)\n",
    "        out3 = self.fc(out2)\n",
    "        return out3"
   ]
  },
  {
   "cell_type": "code",
   "execution_count": 77,
   "metadata": {
    "colab": {
     "base_uri": "https://localhost:8080/",
     "height": 187
    },
    "colab_type": "code",
    "id": "bd_JCYRfaqVD",
    "outputId": "ee13941a-c011-49db-dfad-13d77c9a6e89"
   },
   "outputs": [
    {
     "name": "stdout",
     "output_type": "stream",
     "text": [
      "epoch 1/10, Test Loss: 0.071877, Acc: 0.978400\n",
      "epoch 2/10, Test Loss: 0.050684, Acc: 0.984200\n",
      "epoch 3/10, Test Loss: 0.048558, Acc: 0.983900\n",
      "epoch 4/10, Test Loss: 0.055176, Acc: 0.983200\n",
      "epoch 5/10, Test Loss: 0.046137, Acc: 0.984300\n",
      "epoch 6/10, Test Loss: 0.053588, Acc: 0.983600\n",
      "epoch 7/10, Test Loss: 0.048516, Acc: 0.986200\n",
      "epoch 8/10, Test Loss: 0.040939, Acc: 0.987600\n",
      "epoch 9/10, Test Loss: 0.049530, Acc: 0.986000\n",
      "epoch 10/10, Test Loss: 0.046109, Acc: 0.985400\n"
     ]
    }
   ],
   "source": [
    "model_cnn_bn = cnn_bn(1, 10).to(device)\n",
    "criterion = nn.CrossEntropyLoss()\n",
    "optimizer = optim.Adam(model_cnn_bn.parameters(), lr = learning_rate, weight_decay = 1e-5)\n",
    "train_cnn(model_cnn_bn)"
   ]
  },
  {
   "cell_type": "code",
   "execution_count": 0,
   "metadata": {
    "colab": {},
    "colab_type": "code",
    "id": "dxY3A-rpa0AU"
   },
   "outputs": [],
   "source": []
  },
  {
   "cell_type": "code",
   "execution_count": 0,
   "metadata": {
    "colab": {},
    "colab_type": "code",
    "id": "29D4aOL7aurf"
   },
   "outputs": [],
   "source": []
  },
  {
   "cell_type": "code",
   "execution_count": 0,
   "metadata": {
    "colab": {},
    "colab_type": "code",
    "id": "TNXv924MWTTK"
   },
   "outputs": [],
   "source": []
  },
  {
   "cell_type": "code",
   "execution_count": 0,
   "metadata": {
    "colab": {},
    "colab_type": "code",
    "id": "aGt8N3QlWEjB"
   },
   "outputs": [],
   "source": []
  },
  {
   "cell_type": "code",
   "execution_count": 0,
   "metadata": {
    "colab": {},
    "colab_type": "code",
    "id": "VgitzydEY71c"
   },
   "outputs": [],
   "source": []
  },
  {
   "cell_type": "code",
   "execution_count": 0,
   "metadata": {
    "colab": {},
    "colab_type": "code",
    "id": "tFWRnxNmY5AP"
   },
   "outputs": [],
   "source": []
  },
  {
   "cell_type": "code",
   "execution_count": 0,
   "metadata": {
    "colab": {},
    "colab_type": "code",
    "id": "z_1t8qX3Ylcr"
   },
   "outputs": [],
   "source": []
  },
  {
   "cell_type": "code",
   "execution_count": 0,
   "metadata": {
    "colab": {},
    "colab_type": "code",
    "id": "qXIfLvBdYiu8"
   },
   "outputs": [],
   "source": []
  },
  {
   "cell_type": "code",
   "execution_count": 0,
   "metadata": {
    "colab": {},
    "colab_type": "code",
    "id": "UPsunh33YenV"
   },
   "outputs": [],
   "source": []
  },
  {
   "cell_type": "code",
   "execution_count": 0,
   "metadata": {
    "colab": {},
    "colab_type": "code",
    "id": "zQ8Pt9XLYcoB"
   },
   "outputs": [],
   "source": []
  },
  {
   "cell_type": "code",
   "execution_count": 0,
   "metadata": {
    "colab": {},
    "colab_type": "code",
    "id": "AJOf_fmUVHzq"
   },
   "outputs": [],
   "source": [
    "img.size()"
   ]
  },
  {
   "cell_type": "code",
   "execution_count": 0,
   "metadata": {
    "colab": {},
    "colab_type": "code",
    "id": "I1Zfw30ZVHz0"
   },
   "outputs": [],
   "source": [
    "img = Variable(img).to(device)"
   ]
  },
  {
   "cell_type": "code",
   "execution_count": 0,
   "metadata": {
    "colab": {},
    "colab_type": "code",
    "id": "-P2IToyJVHz5"
   },
   "outputs": [],
   "source": [
    "img.size()"
   ]
  },
  {
   "cell_type": "code",
   "execution_count": 0,
   "metadata": {
    "colab": {},
    "colab_type": "code",
    "id": "a7PNl97qVH0A"
   },
   "outputs": [],
   "source": [
    "for i, data in enumerate(train_loader, 1):\n",
    "    img, label = data\n",
    "    img = img.view(img.size(0), -1)\n",
    "    img = Variable(img).to(device)\n",
    "    label = Variable(label).to(device)\n",
    "    print(img.size())"
   ]
  },
  {
   "cell_type": "code",
   "execution_count": 0,
   "metadata": {
    "colab": {},
    "colab_type": "code",
    "id": "8oc5TFFkVH0G"
   },
   "outputs": [],
   "source": []
  },
  {
   "cell_type": "code",
   "execution_count": 0,
   "metadata": {
    "colab": {},
    "colab_type": "code",
    "id": "f2oxgK55VH0M"
   },
   "outputs": [],
   "source": []
  },
  {
   "cell_type": "code",
   "execution_count": 0,
   "metadata": {
    "colab": {},
    "colab_type": "code",
    "id": "NWe80sktVH0S"
   },
   "outputs": [],
   "source": []
  },
  {
   "cell_type": "code",
   "execution_count": 0,
   "metadata": {
    "colab": {},
    "colab_type": "code",
    "id": "5RRAE5hyVH0Z"
   },
   "outputs": [],
   "source": []
  },
  {
   "cell_type": "code",
   "execution_count": 0,
   "metadata": {
    "colab": {},
    "colab_type": "code",
    "id": "U9DrVsFXVH0e"
   },
   "outputs": [],
   "source": []
  },
  {
   "cell_type": "code",
   "execution_count": 0,
   "metadata": {
    "colab": {},
    "colab_type": "code",
    "id": "_Ow9yWSgVH0j"
   },
   "outputs": [],
   "source": []
  },
  {
   "cell_type": "code",
   "execution_count": 0,
   "metadata": {
    "colab": {},
    "colab_type": "code",
    "id": "LpKNZA-xVH0o"
   },
   "outputs": [],
   "source": []
  },
  {
   "cell_type": "code",
   "execution_count": 0,
   "metadata": {
    "colab": {},
    "colab_type": "code",
    "id": "j1LZ5522VH00"
   },
   "outputs": [],
   "source": []
  },
  {
   "cell_type": "code",
   "execution_count": 0,
   "metadata": {
    "colab": {},
    "colab_type": "code",
    "id": "Ae4h0M2YVH06"
   },
   "outputs": [],
   "source": []
  }
 ],
 "metadata": {
  "accelerator": "GPU",
  "colab": {
   "collapsed_sections": [],
   "name": "NNonMNIST.ipynb",
   "provenance": [],
   "version": "0.3.2"
  },
  "kernelspec": {
   "display_name": "Python 3",
   "language": "python",
   "name": "python3"
  },
  "language_info": {
   "codemirror_mode": {
    "name": "ipython",
    "version": 3
   },
   "file_extension": ".py",
   "mimetype": "text/x-python",
   "name": "python",
   "nbconvert_exporter": "python",
   "pygments_lexer": "ipython3",
   "version": "3.7.1"
  }
 },
 "nbformat": 4,
 "nbformat_minor": 1
}
