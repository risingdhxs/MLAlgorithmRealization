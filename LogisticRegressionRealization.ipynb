{
 "cells": [
  {
   "cell_type": "code",
   "execution_count": 1,
   "metadata": {},
   "outputs": [],
   "source": [
    "import numpy as np\n",
    "w=0.5\n",
    "b=0.2\n",
    "x=np.random.randn(10000,1)\n",
    "sigx=1/(1+np.exp(-(w*x+b)))\n",
    "y=np.zeros(sigx.shape)\n",
    "y[sigx>0.5]=1"
   ]
  },
  {
   "cell_type": "code",
   "execution_count": 2,
   "metadata": {},
   "outputs": [
    {
     "name": "stderr",
     "output_type": "stream",
     "text": [
      "C:\\Users\\hxs10\\Anaconda3\\lib\\site-packages\\sklearn\\utils\\validation.py:578: DataConversionWarning: A column-vector y was passed when a 1d array was expected. Please change the shape of y to (n_samples, ), for example using ravel().\n",
      "  y = column_or_1d(y, warn=True)\n"
     ]
    },
    {
     "data": {
      "text/plain": [
       "0.9995"
      ]
     },
     "execution_count": 2,
     "metadata": {},
     "output_type": "execute_result"
    }
   ],
   "source": [
    "from sklearn.linear_model import LogisticRegression\n",
    "lr = LogisticRegression(solver='lbfgs')\n",
    "lr.fit(x,y)\n",
    "lr.score(x,y)"
   ]
  },
  {
   "cell_type": "code",
   "execution_count": 3,
   "metadata": {},
   "outputs": [
    {
     "data": {
      "text/plain": [
       "array([0., 0.])"
      ]
     },
     "execution_count": 3,
     "metadata": {},
     "output_type": "execute_result"
    }
   ],
   "source": [
    "lr.predict(x[:2])"
   ]
  },
  {
   "cell_type": "code",
   "execution_count": 5,
   "metadata": {},
   "outputs": [
    {
     "data": {
      "text/plain": [
       "array([[17.83510137]])"
      ]
     },
     "execution_count": 5,
     "metadata": {},
     "output_type": "execute_result"
    }
   ],
   "source": [
    "lr.coef_"
   ]
  },
  {
   "cell_type": "code",
   "execution_count": 7,
   "metadata": {},
   "outputs": [
    {
     "data": {
      "text/plain": [
       "array([7.10147824])"
      ]
     },
     "execution_count": 7,
     "metadata": {},
     "output_type": "execute_result"
    }
   ],
   "source": [
    "lr.intercept_"
   ]
  },
  {
   "cell_type": "code",
   "execution_count": 8,
   "metadata": {},
   "outputs": [
    {
     "data": {
      "text/plain": [
       "array([[0.],\n",
       "       [0.]])"
      ]
     },
     "execution_count": 8,
     "metadata": {},
     "output_type": "execute_result"
    }
   ],
   "source": [
    "y[:2]"
   ]
  },
  {
   "cell_type": "code",
   "execution_count": 10,
   "metadata": {},
   "outputs": [],
   "source": [
    "def logreg_test(x,y,alpha,nmax):\n",
    "    X = np.append(np.ones((x.shape[0],1)),x,axis=1)\n",
    "    m, n = X.shape\n",
    "    w = np.zeros((n,1))\n",
    "    for i in range(nmax):\n",
    "        J = np.sum(y*np.logaddexp(0, -np.dot(X,w)) + (1-y)*np.logaddexp(0, np.dot(X,w)))\n",
    "        dw = np.dot(X.T, -y+(1+np.exp(-np.dot(X,w)))**-1)\n",
    "        w -= alpha * dw\n",
    "        if np.remainder(i,np.floor(nmax/4))==0:\n",
    "            print((i,w,J))\n",
    "    return w\n",
    "    \n",
    "#     X=np.append(np.ones((x.shape[0],1)),x,axis=1)\n",
    "#     m,n=X.shape\n",
    "#     w=np.zeros((n,1))\n",
    "#     #print((0,w))\n",
    "#     for i in range(nmax):\n",
    "#         A=1/(1+np.exp(-np.dot(X,w)))\n",
    "#         J=np.sum(-(y*np.log(A)+(1-y)*np.log(1-A)))\n",
    "#         dZ=A-y\n",
    "#         dw=np.dot(X.T,dZ)/m\n",
    "#         w-=alpha*dw\n",
    "#         if np.remainder(i,np.floor(nmax/4))==0:\n",
    "#             print((i,w,J))\n",
    "#     return w"
   ]
  },
  {
   "cell_type": "code",
   "execution_count": 11,
   "metadata": {},
   "outputs": [],
   "source": [
    "def test_logreg_perf(x,y,alpha,nmax):\n",
    "    w_est=logreg_test(x,y,alpha,nmax)\n",
    "    sigx_hat=1/(1+np.exp(-(w_est[0]+w_est[1]*x)))\n",
    "    y_hat=np.zeros(sigx_hat.shape)\n",
    "    y_hat[sigx_hat>0.5]=1\n",
    "    erate=np.absolute(y_hat-y).sum()/x.shape[0]\n",
    "    print('Error Rate is '+str(erate/100)+'%')"
   ]
  },
  {
   "cell_type": "code",
   "execution_count": 12,
   "metadata": {},
   "outputs": [
    {
     "name": "stdout",
     "output_type": "stream",
     "text": [
      "(0, array([[1.583     ],\n",
      "       [3.72841867]]), 6931.471805599453)\n",
      "(2500, array([[13.25108184],\n",
      "       [33.32818655]]), 182.78005653263577)\n",
      "(5000, array([[16.73825359],\n",
      "       [42.04196559]]), 146.9147474249545)\n",
      "(7500, array([[19.19432435],\n",
      "       [48.17382224]]), 129.35479167137362)\n",
      "Error Rate is 4e-06%\n"
     ]
    }
   ],
   "source": [
    "test_logreg_perf(x,y,0.001,10000)"
   ]
  },
  {
   "cell_type": "code",
   "execution_count": 13,
   "metadata": {},
   "outputs": [
    {
     "name": "stdout",
     "output_type": "stream",
     "text": [
      "(0, array([[ 4.749   ],\n",
      "       [11.185256]]), 6931.471805599453)\n",
      "(10000, array([[30.75543207],\n",
      "       [77.02494888]]), 83.61732256670706)\n",
      "(20000, array([[38.97990088],\n",
      "       [97.55550766]]), 67.04044658079874)\n",
      "(30000, array([[ 44.8250507 ],\n",
      "       [112.15033427]]), 58.75445131219432)\n",
      "Error Rate is 2e-06%\n"
     ]
    }
   ],
   "source": [
    "test_logreg_perf(x,y,0.003,40000)"
   ]
  },
  {
   "cell_type": "code",
   "execution_count": 14,
   "metadata": {},
   "outputs": [
    {
     "name": "stdout",
     "output_type": "stream",
     "text": [
      "(0, array([[3.166     ],\n",
      "       [7.45683734]]), 6931.471805599453)\n",
      "(2500, array([[16.7691656 ],\n",
      "       [42.11916158]]), 146.67162474173534)\n",
      "(5000, array([[21.17491809],\n",
      "       [53.11695111]]), 118.10411663245074)\n",
      "(7500, array([[24.28451845],\n",
      "       [60.87664417]]), 104.04325948071208)\n"
     ]
    }
   ],
   "source": [
    "w_est = logreg_test(x,y,0.002,10000)"
   ]
  },
  {
   "cell_type": "code",
   "execution_count": 15,
   "metadata": {},
   "outputs": [
    {
     "data": {
      "text/plain": [
       "array([[26.77084109],\n",
       "       [67.0809313 ]])"
      ]
     },
     "execution_count": 15,
     "metadata": {},
     "output_type": "execute_result"
    }
   ],
   "source": [
    "w_est"
   ]
  },
  {
   "cell_type": "code",
   "execution_count": 17,
   "metadata": {},
   "outputs": [
    {
     "data": {
      "text/plain": [
       "[array([[17.83510137]]), array([7.10147824])]"
      ]
     },
     "execution_count": 17,
     "metadata": {},
     "output_type": "execute_result"
    }
   ],
   "source": [
    "[lr.coef_, lr.intercept_]"
   ]
  },
  {
   "cell_type": "code",
   "execution_count": 18,
   "metadata": {},
   "outputs": [
    {
     "data": {
      "text/plain": [
       "array([[0.],\n",
       "       [0.],\n",
       "       [1.],\n",
       "       [1.],\n",
       "       [0.]])"
      ]
     },
     "execution_count": 18,
     "metadata": {},
     "output_type": "execute_result"
    }
   ],
   "source": [
    "y[:5]"
   ]
  },
  {
   "cell_type": "code",
   "execution_count": 19,
   "metadata": {},
   "outputs": [
    {
     "data": {
      "text/plain": [
       "array([0., 0., 1., 1., 0.])"
      ]
     },
     "execution_count": 19,
     "metadata": {},
     "output_type": "execute_result"
    }
   ],
   "source": [
    "lr.predict(x[:5])"
   ]
  },
  {
   "cell_type": "code",
   "execution_count": 20,
   "metadata": {},
   "outputs": [
    {
     "data": {
      "text/plain": [
       "array([[6.12304662e-16],\n",
       "       [1.81508501e-34],\n",
       "       [1.00000000e+00],\n",
       "       [1.00000000e+00],\n",
       "       [5.60892218e-05]])"
      ]
     },
     "execution_count": 20,
     "metadata": {},
     "output_type": "execute_result"
    }
   ],
   "source": [
    "1/(1+np.exp(-w_est[0]-w_est[1]*x[:5]))"
   ]
  },
  {
   "cell_type": "code",
   "execution_count": 23,
   "metadata": {},
   "outputs": [],
   "source": [
    "def logreg_l2reg(x,y,alpha,beta,nmax):\n",
    "    X = np.append(np.ones((x.shape[0],1)),x,axis=1)\n",
    "    m, n = X.shape\n",
    "    w = np.zeros((n,1))\n",
    "    for i in range(nmax):\n",
    "        J = np.sum(y*np.logaddexp(0, -np.dot(X,w)) + (1-y)*np.logaddexp(0, np.dot(X,w))) + 0.5*np.dot(w.T,w)\n",
    "        dw = np.dot(X.T, -y+(1+np.exp(-np.dot(X,w)))**-1)/m + beta*w\n",
    "        w -= alpha * dw\n",
    "        if np.remainder(i,np.floor(nmax/4))==0:\n",
    "            print((i,w,J))\n",
    "    return w"
   ]
  },
  {
   "cell_type": "code",
   "execution_count": 24,
   "metadata": {},
   "outputs": [
    {
     "name": "stdout",
     "output_type": "stream",
     "text": [
      "(0, array([[0.0003166 ],\n",
      "       [0.00074568]]), array([[6931.4718056]]))\n",
      "(2500, array([[0.48175734],\n",
      "       [1.14664596]]), array([[3600.1098123]]))\n",
      "(5000, array([[0.71969842],\n",
      "       [1.73461146]]), array([[2772.57197406]]))\n",
      "(7500, array([[0.8819886 ],\n",
      "       [2.14518736]]), array([[2371.64957557]]))\n"
     ]
    }
   ],
   "source": [
    "w_l2 = logreg_l2reg(x,y,0.002,0.001,10000)"
   ]
  },
  {
   "cell_type": "code",
   "execution_count": 25,
   "metadata": {},
   "outputs": [
    {
     "data": {
      "text/plain": [
       "array([[0.22017458],\n",
       "       [0.05555664],\n",
       "       [0.84862982],\n",
       "       [0.99337485],\n",
       "       [0.41662655]])"
      ]
     },
     "execution_count": 25,
     "metadata": {},
     "output_type": "execute_result"
    }
   ],
   "source": [
    "1/(1+np.exp(-w_l2[0]-w_l2[1]*x[:5]))"
   ]
  },
  {
   "cell_type": "code",
   "execution_count": 26,
   "metadata": {},
   "outputs": [
    {
     "data": {
      "text/plain": [
       "array([[1.00751702],\n",
       "       [2.46632168]])"
      ]
     },
     "execution_count": 26,
     "metadata": {},
     "output_type": "execute_result"
    }
   ],
   "source": [
    "w_l2"
   ]
  },
  {
   "cell_type": "code",
   "execution_count": 27,
   "metadata": {},
   "outputs": [
    {
     "name": "stdout",
     "output_type": "stream",
     "text": [
      "(0, array([[0.0004749 ],\n",
      "       [0.00111853]]), array([[6931.4718056]]))\n",
      "(5000, array([[0.87624615],\n",
      "       [2.13095131]]), array([[2383.88375332]]))\n",
      "(10000, array([[1.18427054],\n",
      "       [2.9219679 ]]), array([[1847.57724089]]))\n",
      "(15000, array([[1.38365859],\n",
      "       [3.43589543]]), array([[1607.07992265]]))\n"
     ]
    }
   ],
   "source": [
    "w_l2 = logreg_l2reg(x,y,0.003,0.002,20000)"
   ]
  },
  {
   "cell_type": "code",
   "execution_count": 28,
   "metadata": {},
   "outputs": [
    {
     "data": {
      "text/plain": [
       "array([[1.53180798],\n",
       "       [3.8170887 ]])"
      ]
     },
     "execution_count": 28,
     "metadata": {},
     "output_type": "execute_result"
    }
   ],
   "source": [
    "w_l2"
   ]
  },
  {
   "cell_type": "code",
   "execution_count": 29,
   "metadata": {},
   "outputs": [
    {
     "data": {
      "text/plain": [
       "array([[0.12080921],\n",
       "       [0.01198076],\n",
       "       [0.93342521],\n",
       "       [0.99955932],\n",
       "       [0.36620802]])"
      ]
     },
     "execution_count": 29,
     "metadata": {},
     "output_type": "execute_result"
    }
   ],
   "source": [
    "1/(1+np.exp(-w_l2[0]-w_l2[1]*x[:5]))"
   ]
  },
  {
   "cell_type": "code",
   "execution_count": 30,
   "metadata": {},
   "outputs": [
    {
     "data": {
      "text/plain": [
       "array([[0.],\n",
       "       [0.],\n",
       "       [1.],\n",
       "       [1.],\n",
       "       [0.]])"
      ]
     },
     "execution_count": 30,
     "metadata": {},
     "output_type": "execute_result"
    }
   ],
   "source": [
    "y[:5]"
   ]
  },
  {
   "cell_type": "code",
   "execution_count": 31,
   "metadata": {},
   "outputs": [
    {
     "data": {
      "text/plain": [
       "array([0., 0., 1., 1., 0.])"
      ]
     },
     "execution_count": 31,
     "metadata": {},
     "output_type": "execute_result"
    }
   ],
   "source": [
    "lr.predict(x[:5])"
   ]
  },
  {
   "cell_type": "code",
   "execution_count": 32,
   "metadata": {},
   "outputs": [
    {
     "data": {
      "text/plain": [
       "array([[False],\n",
       "       [False],\n",
       "       [ True],\n",
       "       [ True],\n",
       "       [False]])"
      ]
     },
     "execution_count": 32,
     "metadata": {},
     "output_type": "execute_result"
    }
   ],
   "source": [
    "1/(1+np.exp(-w_l2[0]-w_l2[1]*x[:5])) > 0.5"
   ]
  },
  {
   "cell_type": "code",
   "execution_count": null,
   "metadata": {},
   "outputs": [],
   "source": []
  }
 ],
 "metadata": {
  "kernelspec": {
   "display_name": "Python 3",
   "language": "python",
   "name": "python3"
  },
  "language_info": {
   "codemirror_mode": {
    "name": "ipython",
    "version": 3
   },
   "file_extension": ".py",
   "mimetype": "text/x-python",
   "name": "python",
   "nbconvert_exporter": "python",
   "pygments_lexer": "ipython3",
   "version": "3.6.5"
  }
 },
 "nbformat": 4,
 "nbformat_minor": 2
}
