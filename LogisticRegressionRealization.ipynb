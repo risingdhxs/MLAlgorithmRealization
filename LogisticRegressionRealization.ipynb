{
 "cells": [
  {
   "cell_type": "code",
   "execution_count": 57,
   "metadata": {},
   "outputs": [],
   "source": [
    "import numpy as np\n",
    "w=0.5\n",
    "b=0.2\n",
    "x=np.random.randn(10000,1)\n",
    "sigx=1/(1+np.exp(-(w*x+b)))\n",
    "y=np.zeros(sigx.shape)\n",
    "y[sigx>0.5]=1"
   ]
  },
  {
   "cell_type": "code",
   "execution_count": 65,
   "metadata": {},
   "outputs": [],
   "source": [
    "def logreg_test(x,y,alpha,nmax):\n",
    "    X=np.append(np.ones((x.shape[0],1)),x,axis=1)\n",
    "    m,n=X.shape\n",
    "    w=np.zeros((n,1))\n",
    "    #print((0,w))\n",
    "    for i in range(nmax):\n",
    "        A=1/(1+np.exp(-np.dot(X,w)))\n",
    "        J=np.sum(-(y*np.log(A)+(1-y)*np.log(1-A)))\n",
    "        dZ=A-y\n",
    "        dw=np.dot(X.T,dZ)/m\n",
    "        w-=alpha*dw\n",
    "        if np.remainder(i,np.floor(nmax/4))==0:\n",
    "            print((i,w,J))\n",
    "    return w"
   ]
  },
  {
   "cell_type": "code",
   "execution_count": 59,
   "metadata": {},
   "outputs": [],
   "source": [
    "def test_logreg_perf(x,y,alpha,nmax):\n",
    "    w_est=logreg_test(x,y,alpha,nmax)\n",
    "    sigx_hat=1/(1+np.exp(-(w_est[0]+w_est[1]*x)))\n",
    "    y_hat=np.zeros(sigx_hat.shape)\n",
    "    y_hat[sigx_hat>0.5]=1\n",
    "    erate=np.absolute(y_hat-y).sum()/x.shape[0]\n",
    "    print('Error Rate is '+str(erate/100)+'%')"
   ]
  },
  {
   "cell_type": "code",
   "execution_count": 62,
   "metadata": {},
   "outputs": [
    {
     "name": "stdout",
     "output_type": "stream",
     "text": [
      "(0, array([[0.],\n",
      "       [0.]]))\n",
      "Error Rate is 6.3e-05%\n"
     ]
    }
   ],
   "source": [
    "test_logreg_perf(x,y,0.001,10000)"
   ]
  },
  {
   "cell_type": "code",
   "execution_count": 64,
   "metadata": {},
   "outputs": [
    {
     "name": "stdout",
     "output_type": "stream",
     "text": [
      "Error Rate is 2.7000000000000002e-05%\n"
     ]
    }
   ],
   "source": [
    "test_logreg_perf(x,y,0.005,10000)"
   ]
  },
  {
   "cell_type": "code",
   "execution_count": 66,
   "metadata": {},
   "outputs": [
    {
     "name": "stdout",
     "output_type": "stream",
     "text": [
      "(0, array([[0.001596  ],\n",
      "       [0.00364679]]), 6931.471805599453)\n",
      "(250, array([[0.30233707],\n",
      "       [0.6963308 ]]), 4585.464623559661)\n",
      "(500, array([[0.48991656],\n",
      "       [1.13876434]]), 3649.7600901274104)\n",
      "(750, array([[0.62613886],\n",
      "       [1.46730607]]), 3140.3594875217045)\n",
      "Error Rate is 6.3e-05%\n"
     ]
    }
   ],
   "source": [
    "test_logreg_perf(x,y,0.01,1000)"
   ]
  },
  {
   "cell_type": "code",
   "execution_count": 67,
   "metadata": {},
   "outputs": [
    {
     "name": "stdout",
     "output_type": "stream",
     "text": [
      "(0, array([[0.000798 ],\n",
      "       [0.0018234]]), 6931.471805599453)\n",
      "(250, array([[0.17231253],\n",
      "       [0.39515503]]), 5444.9640273491295)\n",
      "(500, array([[0.30175307],\n",
      "       [0.69497984]]), 4586.191993755466)\n",
      "(750, array([[0.40444651],\n",
      "       [0.93582167]]), 4035.3549818483416)\n",
      "Error Rate is 8.2e-05%\n"
     ]
    }
   ],
   "source": [
    "test_logreg_perf(x,y,0.005,1000)"
   ]
  },
  {
   "cell_type": "code",
   "execution_count": 68,
   "metadata": {},
   "outputs": [
    {
     "name": "stdout",
     "output_type": "stream",
     "text": [
      "(0, array([[0.00798   ],\n",
      "       [0.01823396]]), 6931.471805599453)\n",
      "(500, array([[1.14699088],\n",
      "       [2.76286974]]), 1966.7769481575815)\n",
      "(1000, array([[1.53942245],\n",
      "       [3.74613354]]), 1508.6815709045472)\n",
      "(1500, array([[1.80985943],\n",
      "       [4.42022531]]), 1296.0351629605561)\n",
      "Error Rate is 2.3999999999999997e-05%\n"
     ]
    }
   ],
   "source": [
    "test_logreg_perf(x,y,0.05,2000)"
   ]
  }
 ],
 "metadata": {
  "kernelspec": {
   "display_name": "Python 3",
   "language": "python",
   "name": "python3"
  },
  "language_info": {
   "codemirror_mode": {
    "name": "ipython",
    "version": 3
   },
   "file_extension": ".py",
   "mimetype": "text/x-python",
   "name": "python",
   "nbconvert_exporter": "python",
   "pygments_lexer": "ipython3",
   "version": "3.6.5"
  }
 },
 "nbformat": 4,
 "nbformat_minor": 2
}
